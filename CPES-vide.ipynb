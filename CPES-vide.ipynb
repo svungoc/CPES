{
 "cells": [
  {
   "cell_type": "code",
   "execution_count": 1,
   "id": "87eb2a65",
   "metadata": {},
   "outputs": [],
   "source": [
    "%matplotlib inline\n",
    "# inline can be replaced by notebook to get interactive plots\n",
    "import numpy as np\n",
    "import matplotlib.pyplot as plt\n",
    "import matplotlib.image as img\n",
    "import matplotlib.cm as cm\n",
    "import matplotlib.colors as colors\n",
    "plt.rcParams['figure.figsize'] = (20.0, 12.0) # set figures display bigger"
   ]
  },
  {
   "cell_type": "code",
   "execution_count": null,
   "id": "39f96a35",
   "metadata": {},
   "outputs": [],
   "source": []
  }
 ],
 "metadata": {
  "kernelspec": {
   "display_name": "Python 3 (ipykernel)",
   "language": "python",
   "name": "python3"
  },
  "language_info": {
   "codemirror_mode": {
    "name": "ipython",
    "version": 3
   },
   "file_extension": ".py",
   "mimetype": "text/x-python",
   "name": "python",
   "nbconvert_exporter": "python",
   "pygments_lexer": "ipython3",
   "version": "3.10.6"
  }
 },
 "nbformat": 4,
 "nbformat_minor": 5
}
